{
 "cells": [
  {
   "cell_type": "code",
   "execution_count": 3,
   "id": "452e9daa-0034-46cd-9fa2-ebb1db83aef9",
   "metadata": {},
   "outputs": [],
   "source": [
    "import os\n",
    "from openai import OpenAI  # type: ignore\n",
    "from dotenv import load_dotenv  # type: ignore"
   ]
  },
  {
   "cell_type": "code",
   "execution_count": 4,
   "id": "d5e12949-f343-4e00-99fa-72fe2e5f45a0",
   "metadata": {},
   "outputs": [],
   "source": [
    "# Ghi API key vào file v.env\n",
    "with open(\"v.env\", \"w\") as f:\n",
    "    f.write(\"API_KEY=your_real_api_key_here\")"
   ]
  },
  {
   "cell_type": "code",
   "execution_count": 6,
   "id": "78f15573-04e3-42f3-af41-bf2e6745e491",
   "metadata": {},
   "outputs": [
    {
     "name": "stdout",
     "output_type": "stream",
     "text": [
      "Dựa trên biểu đồ giá cổ phiếu từ tháng 7 đến tháng 12 năm 2024, chúng ta thấy một xu hướng tăng trưởng đáng chú ý. Từ tháng 7 đến giữa tháng 9, giá cổ phiếu dao động tương đối ổn định, cho thấy giai đoạn tích lũy. Tuy nhiên, từ giữa tháng 9 trở đi, giá bắt đầu tăng mạnh và liên tục đạt đỉnh mới, đặc biệt vào tháng 11 và tháng 12, cho thấy một đà tăng trưởng mạnh mẽ. Mặc dù có một vài đợt điều chỉnh nhỏ, xu hướng chung vẫn là tăng. Điều này cho thấy cổ phiếu đang nhận được sự quan tâm và đầu tư lớn từ thị trường trong giai đoạn cuối năm.\n",
      "\n"
     ]
    }
   ],
   "source": [
    "import os\n",
    "from openai import OpenAI  # type: ignore\n",
    "from dotenv import load_dotenv  # type: ignore\n",
    "\n",
    "# Load API Key từ tệp môi trường\n",
    "load_dotenv(\"v.env\")\n",
    "API_KEY = os.getenv(\"API_KEY\")\n",
    "\n",
    "# Khởi tạo OpenAI client\n",
    "client = OpenAI(\n",
    "    base_url=\"https://openrouter.ai/api/v1\",\n",
    "    api_key=API_KEY,\n",
    ")\n",
    "\n",
    "def chat_with_ai_image_url(image_url: str, prompt: str, model: str = \"google/gemini-2.0-flash-001\") -> str:\n",
    "    try:\n",
    "        response = client.chat.completions.create(\n",
    "            model=model,\n",
    "            messages=[\n",
    "                {\"role\": \"system\", \"content\": \"Bạn là một chuyên gia phân tích tài chính.\"},\n",
    "                {\"role\": \"user\", \"content\": prompt},\n",
    "                {\"role\": \"user\", \"content\": f\"Đây là hình ảnh cần phân tích: {image_url}\"}\n",
    "            ]\n",
    "        )\n",
    "        return response.choices[0].message.content\n",
    "    except Exception as e:\n",
    "        return f\"Lỗi: {e}\"\n",
    "\n",
    "# 📌 Ví dụ sử dụng (Thay thế bằng link ảnh hợp lệ)\n",
    "image_url = \"https://drive.google.com/uc?id=1AyBCqedh9dMAm_ASz6mS-P3TujPtYGRH/view\"  # 🔗 Thay bằng URL ảnh thật (lấy link trước hỏi sau bằng)\n",
    "prompt = \"Phân tích biểu đồ biến động giá cổ phiếu từ 7/2024-12/2024 bằng đoạn văn dưới 200 chữ hay nhất.\"\n",
    "\n",
    "response = chat_with_ai_image_url(image_url, prompt)\n",
    "print(response)\n"
   ]
  }
 ],
 "metadata": {
  "kernelspec": {
   "display_name": "Python 3 (ipykernel)",
   "language": "python",
   "name": "python3"
  },
  "language_info": {
   "codemirror_mode": {
    "name": "ipython",
    "version": 3
   },
   "file_extension": ".py",
   "mimetype": "text/x-python",
   "name": "python",
   "nbconvert_exporter": "python",
   "pygments_lexer": "ipython3",
   "version": "3.11.7"
  }
 },
 "nbformat": 4,
 "nbformat_minor": 5
}
